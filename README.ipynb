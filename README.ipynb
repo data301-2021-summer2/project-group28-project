{
 "cells": [
  {
   "cell_type": "code",
   "execution_count": 1,
   "id": "a419384b-b4aa-4b69-81d5-125a73151b90",
   "metadata": {},
   "outputs": [
    {
     "ename": "SyntaxError",
     "evalue": "invalid syntax (Temp/ipykernel_16928/3931296917.py, line 3)",
     "output_type": "error",
     "traceback": [
      "\u001b[1;36m  File \u001b[1;32m\"C:\\Users\\vong2\\AppData\\Local\\Temp/ipykernel_16928/3931296917.py\"\u001b[1;36m, line \u001b[1;32m3\u001b[0m\n\u001b[1;33m    - Your title can change over time.\u001b[0m\n\u001b[1;37m           ^\u001b[0m\n\u001b[1;31mSyntaxError\u001b[0m\u001b[1;31m:\u001b[0m invalid syntax\n"
     ]
    }
   ],
   "source": [
    "# Group 28 - {Investigating the effects of Diet on individuals with COVID-19}\n",
    "\n",
    "- Your title can change over time.\n",
    "\n",
    "## Milestones\n",
    "\n",
    "Details for Milestone are available on Canvas (left sidebar, Course Project) or [here](https://firas.moosvi.com/courses/data301/project/milestone01.html).\n",
    "\n",
    "## Describe your topic/interest in about 150-200 words\n",
    "\n",
    "Given the detrimental impact that the covid-19 pandemic has had on our lives, we became interested in how diet affects our health. This dataset describes how consumption of different food groups affect COVID-19 cases, deaths, recovery and more. The data was compiled on Kaggle through a variety of sources which includes food group supply quantities, nutrition values, obesity, and undernourished percentages from FAO STAT (Food and Agriculture Organization of the United Nations, population count of each country from PRB.org (Population Reference Bureau), and COVID-19 related data (confirmed cases, deaths, recovered & active cases) from JHU CSSE (Johns Hopkins Center for Systems Science and Engineering.Our data was first created on April 23rd, 2020, and we are using the version 66 of the data which was updated on February 7th, 2021. All data was collected by humans and unputted into digital data storage systems. The purpose of this dataset is for public interest and increase accountability through measuring if different countries’ eating habits affect COVID-19 infection rates.\n",
    "\n",
    "\n",
    "## Describe your dataset in about 150-200 words\n",
    "\n",
    "We want to understand how to better protect ourselves from COVID-19 by changing our diet. Through this project we hope to gain insight into whether or not consuming protein from animal products can increase the risk of death from COVID, if there is a comorbity between obesity and COVID-19 and if there is a relationship between consuming more stimulant products and recovery from the disease. Using data science tools we aim to be able to quantify the effects of the individual variables mentioned on the death rates, number of active cases and recovery rates in relation to COVID-19 through linear regression. From there, we can create a multivariate regression model to see the combined effects of these variables on individuals affected by COVID-19. Additionally, we aim to visualize our findings, possibly on a user-facing Dashboard, in a way that would be easily presentable to the public for a comprehensive understanding what constitutes the best diet for surviving the pandemic.\n",
    "\n",
    "\n",
    "## Team Members\n",
    "\n",
    "- Yuen Yee Leung: I am a current 4th year microbiology student.\n",
    "- Anthony Vong: I am a 4th year management student, minor in Economics.\n",
    "- Person 3: one sentence about you!\n",
    "\n",
    "## References\n",
    "\n",
    "https://www.kaggle.com/mariaren/covid19-healthy-diet-dataset\n"
   ]
  }
 ],
 "metadata": {
  "kernelspec": {
   "display_name": "Python 3 (ipykernel)",
   "language": "python",
   "name": "python3"
  },
  "language_info": {
   "codemirror_mode": {
    "name": "ipython",
    "version": 3
   },
   "file_extension": ".py",
   "mimetype": "text/x-python",
   "name": "python",
   "nbconvert_exporter": "python",
   "pygments_lexer": "ipython3",
   "version": "3.8.5"
  }
 },
 "nbformat": 4,
 "nbformat_minor": 5
}
