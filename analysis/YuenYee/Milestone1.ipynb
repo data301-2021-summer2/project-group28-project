{
 "cells": [
  {
   "cell_type": "code",
   "execution_count": null,
   "id": "813a7468-3107-4091-b819-75dc7cd443eb",
   "metadata": {},
   "outputs": [],
   "source": [
    "# Uploading dataset"
   ]
  }
 ],
 "metadata": {
  "kernelspec": {
   "display_name": "Python 3 (ipykernel)",
   "language": "python",
   "name": "python3"
  },
  "language_info": {
   "codemirror_mode": {
    "name": "ipython",
    "version": 3
   },
   "file_extension": ".py",
   "mimetype": "text/x-python",
   "name": "python",
   "nbconvert_exporter": "python",
   "pygments_lexer": "ipython3",
   "version": "3.8.5"
  }
 },
 "nbformat": 4,
 "nbformat_minor": 5
}
