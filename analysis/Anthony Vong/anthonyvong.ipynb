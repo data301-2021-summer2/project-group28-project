{
 "cells": [
  {
   "cell_type": "code",
   "execution_count": null,
   "id": "80c48ca3-0d17-45fe-a0f4-765249717981",
   "metadata": {},
   "outputs": [],
   "source": [
    "#Milestone 1\n",
    "#We have found our dataset (COVID-19 Healthy Diet Dataset) from Kaggle, and we have decicded own topic for the project"
   ]
  }
 ],
 "metadata": {
  "kernelspec": {
   "display_name": "Python 3 (ipykernel)",
   "language": "python",
   "name": "python3"
  },
  "language_info": {
   "codemirror_mode": {
    "name": "ipython",
    "version": 3
   },
   "file_extension": ".py",
   "mimetype": "text/x-python",
   "name": "python",
   "nbconvert_exporter": "python",
   "pygments_lexer": "ipython3",
   "version": "3.8.5"
  }
 },
 "nbformat": 4,
 "nbformat_minor": 5
}
