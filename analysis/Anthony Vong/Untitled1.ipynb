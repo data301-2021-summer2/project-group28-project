{
 "cells": [
  {
   "cell_type": "code",
   "execution_count": 1,
   "id": "7ab83c66-0b45-4199-8d74-a2fafea95c6f",
   "metadata": {},
   "outputs": [],
   "source": [
    "#Take 1"
   ]
  },
  {
   "cell_type": "code",
   "execution_count": 1,
   "id": "6834c00a-edeb-47f8-9b62-29afbeada6c8",
   "metadata": {},
   "outputs": [],
   "source": [
    "#Food supply (kcal) data\n",
    "import pandas as pd\n",
    "import numpy as np\n",
    "df = pd.read_csv(\"C:/Users/vong2/OneDrive/Desktop/data301/project-group28-project/data/raw/Food_Supply_kcal_Data.csv\")"
   ]
  },
  {
   "cell_type": "code",
   "execution_count": 2,
   "id": "b8b011c3-8347-489d-9b68-d38324ea61b0",
   "metadata": {},
   "outputs": [],
   "source": [
    "df[[ 'Alcoholic Beverages',\n",
    " 'Animal Products',\n",
    " 'Animal fats',\n",
    " 'Cereals - Excluding Beer',\n",
    " 'Eggs',\n",
    " 'Fish, Seafood',\n",
    " 'Fruits - Excluding Wine',\n",
    " 'Meat',\n",
    " 'Milk - Excluding Butter',\n",
    " 'Miscellaneous',\n",
    " 'Offals',\n",
    " 'Oilcrops',\n",
    " 'Pulses',\n",
    " 'Spices',\n",
    " 'Starchy Roots',\n",
    " 'Stimulants',\n",
    " 'Sugar & Sweeteners',\n",
    " 'Treenuts',\n",
    " 'Vegetal Products',\n",
    " 'Vegetable Oils',\n",
    " 'Vegetables',\n",
    " 'Obesity',\n",
    " 'Undernourished',\n",
    " 'Confirmed',\n",
    " 'Deaths',\n",
    " 'Recovered',\n",
    " 'Active',\n",
    " 'Population']] = df[[ 'Alcoholic Beverages',\n",
    " 'Animal Products',\n",
    " 'Animal fats',\n",
    " 'Cereals - Excluding Beer',\n",
    " 'Eggs',\n",
    " 'Fish, Seafood',\n",
    " 'Fruits - Excluding Wine',\n",
    " 'Meat',\n",
    " 'Milk - Excluding Butter',\n",
    " 'Miscellaneous',\n",
    " 'Offals',\n",
    " 'Oilcrops',\n",
    " 'Pulses',\n",
    " 'Spices',\n",
    " 'Starchy Roots',\n",
    " 'Stimulants',\n",
    " 'Sugar & Sweeteners',\n",
    " 'Treenuts',\n",
    " 'Vegetal Products',\n",
    " 'Vegetable Oils',\n",
    " 'Vegetables',\n",
    " 'Obesity',\n",
    " 'Undernourished',\n",
    " 'Confirmed',\n",
    " 'Deaths',\n",
    " 'Recovered',\n",
    " 'Active',\n",
    " 'Population']].replace(0, \"NA\")"
   ]
  },
  {
   "cell_type": "code",
   "execution_count": 5,
   "id": "2579e208-7c79-4cda-a1d9-c27411366ab2",
   "metadata": {},
   "outputs": [],
   "source": [
    "df.dropna(inplace=True)"
   ]
  },
  {
   "cell_type": "code",
   "execution_count": 21,
   "id": "ec5d37b1-7008-4b70-9477-efd7c4932673",
   "metadata": {},
   "outputs": [
    {
     "ename": "TypeError",
     "evalue": "'float' object does not support item assignment",
     "output_type": "error",
     "traceback": [
      "\u001b[1;31m---------------------------------------------------------------------------\u001b[0m",
      "\u001b[1;31mTypeError\u001b[0m                                 Traceback (most recent call last)",
      "\u001b[1;32m~\\AppData\\Local\\Temp/ipykernel_21012/1152807748.py\u001b[0m in \u001b[0;36m<module>\u001b[1;34m\u001b[0m\n\u001b[1;32m----> 1\u001b[1;33m \u001b[0mdf\u001b[0m\u001b[1;33m[\u001b[0m\u001b[1;34m\"Aquatic Products, Other\"\u001b[0m\u001b[1;33m,\u001b[0m\u001b[1;34m\"Sugar Crops\"\u001b[0m\u001b[1;33m]\u001b[0m \u001b[1;33m=\u001b[0m \u001b[0mnp\u001b[0m\u001b[1;33m.\u001b[0m\u001b[0mnan\u001b[0m\u001b[1;33m\u001b[0m\u001b[1;33m\u001b[0m\u001b[0m\n\u001b[0m",
      "\u001b[1;31mTypeError\u001b[0m: 'float' object does not support item assignment"
     ]
    }
   ],
   "source": [
    "df[\"Aquatic Products, Other\",\"Sugar Crops\"] = np.nan\n"
   ]
  },
  {
   "cell_type": "code",
   "execution_count": 22,
   "id": "f8a2a2b1-2ff9-4a0b-bd8e-f7abde36752c",
   "metadata": {},
   "outputs": [
    {
     "ename": "TypeError",
     "evalue": "'float' object does not support item assignment",
     "output_type": "error",
     "traceback": [
      "\u001b[1;31m---------------------------------------------------------------------------\u001b[0m",
      "\u001b[1;31mTypeError\u001b[0m                                 Traceback (most recent call last)",
      "\u001b[1;32m~\\AppData\\Local\\Temp/ipykernel_21012/610674127.py\u001b[0m in \u001b[0;36m<module>\u001b[1;34m\u001b[0m\n\u001b[1;32m----> 1\u001b[1;33m \u001b[0mdf\u001b[0m\u001b[1;33m[\u001b[0m\u001b[1;34m\"Aquatic Products, Other\"\u001b[0m\u001b[1;33m,\u001b[0m\u001b[1;34m\"Sugar Crops\"\u001b[0m\u001b[1;33m]\u001b[0m \u001b[1;33m=\u001b[0m \u001b[0mnp\u001b[0m\u001b[1;33m.\u001b[0m\u001b[0mnan\u001b[0m\u001b[1;33m\u001b[0m\u001b[1;33m\u001b[0m\u001b[0m\n\u001b[0m\u001b[0;32m      2\u001b[0m \u001b[0mdf\u001b[0m \u001b[1;33m=\u001b[0m \u001b[0mdf\u001b[0m\u001b[1;33m.\u001b[0m\u001b[0mdropna\u001b[0m\u001b[1;33m(\u001b[0m\u001b[0maxis\u001b[0m\u001b[1;33m=\u001b[0m\u001b[1;34m'columns'\u001b[0m\u001b[1;33m,\u001b[0m \u001b[0mhow\u001b[0m\u001b[1;33m=\u001b[0m\u001b[1;34m'all'\u001b[0m\u001b[1;33m)\u001b[0m\u001b[1;33m\u001b[0m\u001b[1;33m\u001b[0m\u001b[0m\n",
      "\u001b[1;31mTypeError\u001b[0m: 'float' object does not support item assignment"
     ]
    }
   ],
   "source": [
    "df[\"Aquatic Products, Other\",\"Sugar Crops\"] = np.nan\n",
    "df = df.dropna(axis='columns', how='all')"
   ]
  },
  {
   "cell_type": "code",
   "execution_count": 23,
   "id": "0e33644b-f6b6-46b6-8b8e-1e7795a67121",
   "metadata": {},
   "outputs": [
    {
     "data": {
      "text/plain": [
       "nan"
      ]
     },
     "execution_count": 23,
     "metadata": {},
     "output_type": "execute_result"
    }
   ],
   "source": [
    "df"
   ]
  },
  {
   "cell_type": "code",
   "execution_count": null,
   "id": "2654e25c-2dca-4b48-b5d6-57e03d031bc9",
   "metadata": {},
   "outputs": [],
   "source": []
  }
 ],
 "metadata": {
  "kernelspec": {
   "display_name": "Python 3 (ipykernel)",
   "language": "python",
   "name": "python3"
  },
  "language_info": {
   "codemirror_mode": {
    "name": "ipython",
    "version": 3
   },
   "file_extension": ".py",
   "mimetype": "text/x-python",
   "name": "python",
   "nbconvert_exporter": "python",
   "pygments_lexer": "ipython3",
   "version": "3.8.5"
  }
 },
 "nbformat": 4,
 "nbformat_minor": 5
}
